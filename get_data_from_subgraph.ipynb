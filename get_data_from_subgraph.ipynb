{
 "cells": [
  {
   "cell_type": "code",
   "execution_count": 5,
   "id": "d9f1bf31",
   "metadata": {},
   "outputs": [],
   "source": [
    "import requests\n",
    "import datetime\n",
    "import json\n",
    "from datetime import timedelta\n",
    "import pandas as pd\n",
    "from IPython.display import display\n",
    "from dateutil.relativedelta import relativedelta\n",
    "import seaborn as sns\n",
    "pd.options.mode.chained_assignment = None \n",
    "from tqdm import tqdm\n",
    "from tabulate import tabulate"
   ]
  },
  {
   "cell_type": "code",
   "execution_count": 6,
   "id": "8e1fa2f0",
   "metadata": {},
   "outputs": [],
   "source": [
    "def create_options(query, skip_iterator):\n",
    "    return query.replace('skip_param', str(skip_iterator))\n",
    "\n",
    "def get_data_from_sg(query, url, name, amonths=6):\n",
    "    result = []\n",
    "    headers = {\n",
    "        'authority': 'api.thegraph.com',\n",
    "        'content-type': 'application/json',\n",
    "        'accept': '*/*',\n",
    "        'origin': 'https://thegraph.com',\n",
    "        'sec-fetch-site': 'same-site',\n",
    "        'sec-fetch-mode': 'cors',\n",
    "        'sec-fetch-dest': 'empty',\n",
    "        'referer': 'https://thegraph.com/',\n",
    "    }\n",
    "    timestamp = int(datetime.datetime.now().timestamp())\n",
    "    timestampend = int((datetime.datetime.now()- relativedelta(months=amonths)).timestamp())\n",
    "    while(timestamp >= timestampend):\n",
    "        data = create_options(query, timestamp)\n",
    "        response = requests.post(f'https://api.thegraph.com/subgraphs/name/{url}', headers = headers, data=data)\n",
    "        response = response.json()[\"data\"][name]\n",
    "        if response:\n",
    "            result.append(response)     \n",
    "            timestamp = int(response[-1]['timestamp'])\n",
    "        else:\n",
    "            break\n",
    "    return [item for sublist in result for item in sublist]    "
   ]
  },
  {
   "cell_type": "code",
   "execution_count": 12,
   "id": "5f945407",
   "metadata": {},
   "outputs": [],
   "source": [
    "# GMX get date from AUM (asset under management) and supply GLP for price calculation\n",
    "query = '{\"query\":\"{\\\\n glpStats(first: 1000, orderBy: timestamp, orderDirection: desc, where : {timestamp_lt : skip_param}) {\\\\n period\\\\n aumInUsdg\\\\n glpSupply\\\\n timestamp\\\\n}\\\\n}\\\\n\",\"variables\":null}'\n",
    "url = 'gmx-io/gmx-avalanche-stats'\n",
    "name = 'glpStats'\n",
    "price_buff = get_data_from_sg(query, url, name)\n",
    "price = pd.DataFrame(price_buff)\n",
    "\n",
    "price['date'] = pd.to_datetime(price['timestamp'], unit = 's')"
   ]
  },
  {
   "cell_type": "code",
   "execution_count": 13,
   "id": "974333d7",
   "metadata": {},
   "outputs": [],
   "source": [
    "# price calculation\n",
    "\n",
    "price[\"price\"] = (price['aumInUsdg'].apply(int)) / (price['glpSupply'].apply(int))"
   ]
  },
  {
   "cell_type": "code",
   "execution_count": 14,
   "id": "07e30902",
   "metadata": {},
   "outputs": [],
   "source": [
    "price.to_csv(\"price_0709.csv\")"
   ]
  },
  {
   "cell_type": "code",
   "execution_count": 7,
   "id": "844e66f0",
   "metadata": {},
   "outputs": [],
   "source": [
    "# GMX get date from poolAmount\n",
    "query = '{\"query\":\"{\\\\n tokenStats(first: 1000, orderBy: timestamp, orderDirection: desc, where : {timestamp_lt : skip_param}) {\\\\n period\\\\n poolAmount\\\\n poolAmountUsd\\\\n timestamp\\\\n token\\\\n}\\\\n}\\\\n\",\"variables\":null}'\n",
    "url = 'gmx-io/gmx-avalanche-stats'\n",
    "name = 'tokenStats'\n",
    "tokens_buff = get_data_from_sg(query, url, name)\n",
    "tokens = pd.DataFrame(tokens_buff)\n",
    "tokens['date'] = pd.to_datetime(tokens['timestamp'], unit = 's')"
   ]
  },
  {
   "cell_type": "code",
   "execution_count": 9,
   "id": "f9827266",
   "metadata": {},
   "outputs": [],
   "source": [
    "tokens.to_csv(\"tokens_0709.csv\")"
   ]
  },
  {
   "cell_type": "code",
   "execution_count": 10,
   "id": "a4481eb3",
   "metadata": {},
   "outputs": [],
   "source": [
    "GLP = {\n",
    "  '0xb31f66aa3c1e785363f0875a1b74e27b85fd66c7': 'AVAX',\n",
    "  '0x49d5c2bdffac6ce2bfdb6640f4f80f226bc10bab': 'WETH.e',\n",
    "  '0x50b7545627a5162f82a992c33b87adc75187b218': 'WBTC.e',\n",
    "  '0x152b9d0fdc40c096757f570a51e494bd4b943e50': 'BTC.b',\n",
    "  '0xa7d7079b0fead91f3e65f86e8915cb59c1a4c664': 'USDC.e',\n",
    "  '0xb97ef9ef8734c71904d8002f8b6bc66dd9c48a6e': 'USDC',\n",
    "  '0x130966628846bfd36ff31a822705796e8cb8c18d': 'MIM',}\n",
    "      "
   ]
  },
  {
   "cell_type": "code",
   "execution_count": 15,
   "id": "0dce310a",
   "metadata": {},
   "outputs": [],
   "source": [
    "price = price[price.period == 'daily']\n",
    "tokens = tokens[tokens.period == 'daily']"
   ]
  },
  {
   "cell_type": "code",
   "execution_count": 16,
   "id": "cab19375",
   "metadata": {},
   "outputs": [
    {
     "data": {
      "text/html": [
       "<div>\n",
       "<style scoped>\n",
       "    .dataframe tbody tr th:only-of-type {\n",
       "        vertical-align: middle;\n",
       "    }\n",
       "\n",
       "    .dataframe tbody tr th {\n",
       "        vertical-align: top;\n",
       "    }\n",
       "\n",
       "    .dataframe thead th {\n",
       "        text-align: right;\n",
       "    }\n",
       "</style>\n",
       "<table border=\"1\" class=\"dataframe\">\n",
       "  <thead>\n",
       "    <tr style=\"text-align: right;\">\n",
       "      <th></th>\n",
       "      <th>date</th>\n",
       "      <th>token</th>\n",
       "      <th>token_name</th>\n",
       "      <th>weight</th>\n",
       "    </tr>\n",
       "  </thead>\n",
       "  <tbody>\n",
       "    <tr>\n",
       "      <th>0</th>\n",
       "      <td>2022-09-07</td>\n",
       "      <td>0xb97ef9ef8734c71904d8002f8b6bc66dd9c48a6e</td>\n",
       "      <td>USDC</td>\n",
       "      <td>33.974179</td>\n",
       "    </tr>\n",
       "    <tr>\n",
       "      <th>1</th>\n",
       "      <td>2022-09-07</td>\n",
       "      <td>0xb31f66aa3c1e785363f0875a1b74e27b85fd66c7</td>\n",
       "      <td>AVAX</td>\n",
       "      <td>8.019466</td>\n",
       "    </tr>\n",
       "    <tr>\n",
       "      <th>2</th>\n",
       "      <td>2022-09-07</td>\n",
       "      <td>0xa7d7079b0fead91f3e65f86e8915cb59c1a4c664</td>\n",
       "      <td>USDC.e</td>\n",
       "      <td>29.179299</td>\n",
       "    </tr>\n",
       "    <tr>\n",
       "      <th>3</th>\n",
       "      <td>2022-09-07</td>\n",
       "      <td>0x50b7545627a5162f82a992c33b87adc75187b218</td>\n",
       "      <td>WBTC.e</td>\n",
       "      <td>7.048561</td>\n",
       "    </tr>\n",
       "    <tr>\n",
       "      <th>4</th>\n",
       "      <td>2022-09-07</td>\n",
       "      <td>0x49d5c2bdffac6ce2bfdb6640f4f80f226bc10bab</td>\n",
       "      <td>WETH.e</td>\n",
       "      <td>16.266363</td>\n",
       "    </tr>\n",
       "    <tr>\n",
       "      <th>...</th>\n",
       "      <td>...</td>\n",
       "      <td>...</td>\n",
       "      <td>...</td>\n",
       "      <td>...</td>\n",
       "    </tr>\n",
       "    <tr>\n",
       "      <th>1047</th>\n",
       "      <td>2022-02-28</td>\n",
       "      <td>0xb31f66aa3c1e785363f0875a1b74e27b85fd66c7</td>\n",
       "      <td>AVAX</td>\n",
       "      <td>12.620951</td>\n",
       "    </tr>\n",
       "    <tr>\n",
       "      <th>1048</th>\n",
       "      <td>2022-02-28</td>\n",
       "      <td>0xa7d7079b0fead91f3e65f86e8915cb59c1a4c664</td>\n",
       "      <td>USDC.e</td>\n",
       "      <td>50.175494</td>\n",
       "    </tr>\n",
       "    <tr>\n",
       "      <th>1049</th>\n",
       "      <td>2022-02-28</td>\n",
       "      <td>0x50b7545627a5162f82a992c33b87adc75187b218</td>\n",
       "      <td>WBTC.e</td>\n",
       "      <td>18.107748</td>\n",
       "    </tr>\n",
       "    <tr>\n",
       "      <th>1050</th>\n",
       "      <td>2022-02-28</td>\n",
       "      <td>0x49d5c2bdffac6ce2bfdb6640f4f80f226bc10bab</td>\n",
       "      <td>WETH.e</td>\n",
       "      <td>18.317507</td>\n",
       "    </tr>\n",
       "    <tr>\n",
       "      <th>1051</th>\n",
       "      <td>2022-02-28</td>\n",
       "      <td>0x130966628846bfd36ff31a822705796e8cb8c18d</td>\n",
       "      <td>MIM</td>\n",
       "      <td>0.003629</td>\n",
       "    </tr>\n",
       "  </tbody>\n",
       "</table>\n",
       "<p>1052 rows × 4 columns</p>\n",
       "</div>"
      ],
      "text/plain": [
       "           date                                       token token_name  \\\n",
       "0    2022-09-07  0xb97ef9ef8734c71904d8002f8b6bc66dd9c48a6e       USDC   \n",
       "1    2022-09-07  0xb31f66aa3c1e785363f0875a1b74e27b85fd66c7       AVAX   \n",
       "2    2022-09-07  0xa7d7079b0fead91f3e65f86e8915cb59c1a4c664     USDC.e   \n",
       "3    2022-09-07  0x50b7545627a5162f82a992c33b87adc75187b218     WBTC.e   \n",
       "4    2022-09-07  0x49d5c2bdffac6ce2bfdb6640f4f80f226bc10bab     WETH.e   \n",
       "...         ...                                         ...        ...   \n",
       "1047 2022-02-28  0xb31f66aa3c1e785363f0875a1b74e27b85fd66c7       AVAX   \n",
       "1048 2022-02-28  0xa7d7079b0fead91f3e65f86e8915cb59c1a4c664     USDC.e   \n",
       "1049 2022-02-28  0x50b7545627a5162f82a992c33b87adc75187b218     WBTC.e   \n",
       "1050 2022-02-28  0x49d5c2bdffac6ce2bfdb6640f4f80f226bc10bab     WETH.e   \n",
       "1051 2022-02-28  0x130966628846bfd36ff31a822705796e8cb8c18d        MIM   \n",
       "\n",
       "         weight  \n",
       "0     33.974179  \n",
       "1      8.019466  \n",
       "2     29.179299  \n",
       "3      7.048561  \n",
       "4     16.266363  \n",
       "...         ...  \n",
       "1047  12.620951  \n",
       "1048  50.175494  \n",
       "1049  18.107748  \n",
       "1050  18.317507  \n",
       "1051   0.003629  \n",
       "\n",
       "[1052 rows x 4 columns]"
      ]
     },
     "execution_count": 16,
     "metadata": {},
     "output_type": "execute_result"
    }
   ],
   "source": [
    "# calculation of weights for each token\n",
    "stats_weight = []\n",
    "    \n",
    "for _, row in price.iterrows():\n",
    "    \n",
    "    date = row['timestamp']\n",
    "    aum = row['aumInUsdg']\n",
    "    tvl = tokens[tokens[\"timestamp\"] == date][\"poolAmountUsd\"].apply(int).sum()\n",
    "    for _, rowt in tokens[tokens[\"timestamp\"] == date].iterrows():\n",
    "        rowt[\"weight\"] = 100 * int(rowt['poolAmountUsd']) / tvl\n",
    "        rowt[\"token_name\"] = GLP[rowt[\"token\"]]\n",
    "        stats_weight.append({\n",
    "            'date' : rowt['date'],\n",
    "            'token' : rowt['token'],\n",
    "            'token_name' : rowt['token_name'],\n",
    "            'weight' : rowt['weight'],\n",
    "        })\n",
    "stats_weight = pd.DataFrame(stats_weight)\n",
    "stats_weight"
   ]
  },
  {
   "cell_type": "code",
   "execution_count": 17,
   "id": "4bddd1c5",
   "metadata": {},
   "outputs": [],
   "source": [
    "stats_weight.to_csv(\"stats_weight_0709.csv\")"
   ]
  },
  {
   "cell_type": "code",
   "execution_count": 20,
   "id": "a0bf41fc",
   "metadata": {},
   "outputs": [],
   "source": [
    "AAVE = {\n",
    "    '0x50b7545627a5162f82a992c33b87adc75187b218': {'name': 'WBTC.e', 'decimals': 8, \"id\": 0},\n",
    "    '0x49d5c2bdffac6ce2bfdb6640f4f80f226bc10bab': {'name': 'WETH.e', 'decimals': 18}, \n",
    "    '0xb31f66aa3c1e785363f0875a1b74e27b85fd66c7': {'name': 'WAVAX', 'decimals': 18}}"
   ]
  },
  {
   "cell_type": "code",
   "execution_count": 21,
   "id": "d8321a55",
   "metadata": {},
   "outputs": [],
   "source": [
    "# AAVE get date from borrow rate\n",
    "\n",
    "idr =  \"0x49d5c2bdffac6ce2bfdb6640f4f80f226bc10bab0xa97684ead0e402dc232d5a977953df7ecbab3cdb\"\n",
    "query = '{\"query\":\"{\\\\n reserveParamsHistoryItems(first: 1000, orderBy: timestamp, orderDirection: desc, where : {reserve: \\\\\"'+idr+'\\\\\", timestamp_lt : skip_param}) {\\\\n variableBorrowRate\\\\n stableBorrowRate\\\\n priceInEth\\\\n priceInUsd\\\\n timestamp\\\\n}\\\\n}\\\\n\"}'\n",
    "#query = '{query: \"{\\\\n  \\\\n  reserveParamsHistoryItems \\\\n  {\\\\n    variableBorrowRate\\\\n    stableBorrowRate\\\\n    priceInEth\\\\n    priceInUsd\\\\n    timestamp\\\\n    \\\\n  }\\\\n  \\\\n  }\\\\n  \\\\n  \\\\n\",\"variables\":null}'\n",
    "url = 'aave/protocol-v3-avalanche'\n",
    "name = 'reserveParamsHistoryItems'\n",
    "eth_buff = get_data_from_sg(query, url, name)\n",
    "eth_rate = pd.DataFrame(eth_buff)\n",
    "\n",
    "eth_rate['date'] = pd.to_datetime(eth_rate['timestamp'], unit = 's')"
   ]
  },
  {
   "cell_type": "code",
   "execution_count": 27,
   "id": "8054e18e",
   "metadata": {},
   "outputs": [],
   "source": [
    "eth_rate['rate']= (eth_rate['variableBorrowRate'].apply(int)) / 10 ** 27"
   ]
  },
  {
   "cell_type": "code",
   "execution_count": 28,
   "id": "7db02f30",
   "metadata": {},
   "outputs": [
    {
     "data": {
      "text/html": [
       "<div>\n",
       "<style scoped>\n",
       "    .dataframe tbody tr th:only-of-type {\n",
       "        vertical-align: middle;\n",
       "    }\n",
       "\n",
       "    .dataframe tbody tr th {\n",
       "        vertical-align: top;\n",
       "    }\n",
       "\n",
       "    .dataframe thead th {\n",
       "        text-align: right;\n",
       "    }\n",
       "</style>\n",
       "<table border=\"1\" class=\"dataframe\">\n",
       "  <thead>\n",
       "    <tr style=\"text-align: right;\">\n",
       "      <th></th>\n",
       "      <th>variableBorrowRate</th>\n",
       "      <th>stableBorrowRate</th>\n",
       "      <th>priceInEth</th>\n",
       "      <th>priceInUsd</th>\n",
       "      <th>timestamp</th>\n",
       "      <th>date</th>\n",
       "      <th>rate</th>\n",
       "    </tr>\n",
       "  </thead>\n",
       "  <tbody>\n",
       "    <tr>\n",
       "      <th>0</th>\n",
       "      <td>53393486807981862374561020</td>\n",
       "      <td>90000000000000000000000000</td>\n",
       "      <td>157639127724</td>\n",
       "      <td>157639127724</td>\n",
       "      <td>1662578017</td>\n",
       "      <td>2022-09-07 19:13:37</td>\n",
       "      <td>0.053393</td>\n",
       "    </tr>\n",
       "    <tr>\n",
       "      <th>1</th>\n",
       "      <td>53257810197867614908344384</td>\n",
       "      <td>90000000000000000000000000</td>\n",
       "      <td>157353000000</td>\n",
       "      <td>157353000000</td>\n",
       "      <td>1662577041</td>\n",
       "      <td>2022-09-07 18:57:21</td>\n",
       "      <td>0.053258</td>\n",
       "    </tr>\n",
       "    <tr>\n",
       "      <th>2</th>\n",
       "      <td>53259992288235175372144500</td>\n",
       "      <td>90000000000000000000000000</td>\n",
       "      <td>157353000000</td>\n",
       "      <td>157353000000</td>\n",
       "      <td>1662577041</td>\n",
       "      <td>2022-09-07 18:57:21</td>\n",
       "      <td>0.05326</td>\n",
       "    </tr>\n",
       "    <tr>\n",
       "      <th>3</th>\n",
       "      <td>53257810197867614908344384</td>\n",
       "      <td>90000000000000000000000000</td>\n",
       "      <td>156513175322</td>\n",
       "      <td>156513175322</td>\n",
       "      <td>1662575170</td>\n",
       "      <td>2022-09-07 18:26:10</td>\n",
       "      <td>0.053258</td>\n",
       "    </tr>\n",
       "    <tr>\n",
       "      <th>4</th>\n",
       "      <td>53258448372430894571751071</td>\n",
       "      <td>90000000000000000000000000</td>\n",
       "      <td>156513175322</td>\n",
       "      <td>156513175322</td>\n",
       "      <td>1662574798</td>\n",
       "      <td>2022-09-07 18:19:58</td>\n",
       "      <td>0.053258</td>\n",
       "    </tr>\n",
       "    <tr>\n",
       "      <th>...</th>\n",
       "      <td>...</td>\n",
       "      <td>...</td>\n",
       "      <td>...</td>\n",
       "      <td>...</td>\n",
       "      <td>...</td>\n",
       "      <td>...</td>\n",
       "      <td>...</td>\n",
       "    </tr>\n",
       "    <tr>\n",
       "      <th>30519</th>\n",
       "      <td>0</td>\n",
       "      <td>90000000000000000000000000</td>\n",
       "      <td>275430239973</td>\n",
       "      <td>275430239973</td>\n",
       "      <td>1647500046</td>\n",
       "      <td>2022-03-17 06:54:06</td>\n",
       "      <td>0.0</td>\n",
       "    </tr>\n",
       "    <tr>\n",
       "      <th>30520</th>\n",
       "      <td>0</td>\n",
       "      <td>90000000000000000000000000</td>\n",
       "      <td>277165000000</td>\n",
       "      <td>277165000000</td>\n",
       "      <td>1647483348</td>\n",
       "      <td>2022-03-17 02:15:48</td>\n",
       "      <td>0.0</td>\n",
       "    </tr>\n",
       "    <tr>\n",
       "      <th>30521</th>\n",
       "      <td>0</td>\n",
       "      <td>90000000000000000000000000</td>\n",
       "      <td>274890700407</td>\n",
       "      <td>274890700407</td>\n",
       "      <td>1647471353</td>\n",
       "      <td>2022-03-16 22:55:53</td>\n",
       "      <td>0.0</td>\n",
       "    </tr>\n",
       "    <tr>\n",
       "      <th>30522</th>\n",
       "      <td>0</td>\n",
       "      <td>90000000000000000000000000</td>\n",
       "      <td>275809681711</td>\n",
       "      <td>275809681711</td>\n",
       "      <td>1647461648</td>\n",
       "      <td>2022-03-16 20:14:08</td>\n",
       "      <td>0.0</td>\n",
       "    </tr>\n",
       "    <tr>\n",
       "      <th>30523</th>\n",
       "      <td>0</td>\n",
       "      <td>90000000000000000000000000</td>\n",
       "      <td>270190291369</td>\n",
       "      <td>270190291369</td>\n",
       "      <td>1647448152</td>\n",
       "      <td>2022-03-16 16:29:12</td>\n",
       "      <td>0.0</td>\n",
       "    </tr>\n",
       "  </tbody>\n",
       "</table>\n",
       "<p>30524 rows × 7 columns</p>\n",
       "</div>"
      ],
      "text/plain": [
       "               variableBorrowRate            stableBorrowRate    priceInEth  \\\n",
       "0      53393486807981862374561020  90000000000000000000000000  157639127724   \n",
       "1      53257810197867614908344384  90000000000000000000000000  157353000000   \n",
       "2      53259992288235175372144500  90000000000000000000000000  157353000000   \n",
       "3      53257810197867614908344384  90000000000000000000000000  156513175322   \n",
       "4      53258448372430894571751071  90000000000000000000000000  156513175322   \n",
       "...                           ...                         ...           ...   \n",
       "30519                           0  90000000000000000000000000  275430239973   \n",
       "30520                           0  90000000000000000000000000  277165000000   \n",
       "30521                           0  90000000000000000000000000  274890700407   \n",
       "30522                           0  90000000000000000000000000  275809681711   \n",
       "30523                           0  90000000000000000000000000  270190291369   \n",
       "\n",
       "         priceInUsd   timestamp                date      rate  \n",
       "0      157639127724  1662578017 2022-09-07 19:13:37  0.053393  \n",
       "1      157353000000  1662577041 2022-09-07 18:57:21  0.053258  \n",
       "2      157353000000  1662577041 2022-09-07 18:57:21   0.05326  \n",
       "3      156513175322  1662575170 2022-09-07 18:26:10  0.053258  \n",
       "4      156513175322  1662574798 2022-09-07 18:19:58  0.053258  \n",
       "...             ...         ...                 ...       ...  \n",
       "30519  275430239973  1647500046 2022-03-17 06:54:06       0.0  \n",
       "30520  277165000000  1647483348 2022-03-17 02:15:48       0.0  \n",
       "30521  274890700407  1647471353 2022-03-16 22:55:53       0.0  \n",
       "30522  275809681711  1647461648 2022-03-16 20:14:08       0.0  \n",
       "30523  270190291369  1647448152 2022-03-16 16:29:12       0.0  \n",
       "\n",
       "[30524 rows x 7 columns]"
      ]
     },
     "execution_count": 28,
     "metadata": {},
     "output_type": "execute_result"
    }
   ],
   "source": [
    "eth_rate"
   ]
  },
  {
   "cell_type": "code",
   "execution_count": 43,
   "id": "cc2e1a3a",
   "metadata": {},
   "outputs": [],
   "source": [
    "eth_rate['rate'] = eth_rate.rate.apply(float)"
   ]
  },
  {
   "cell_type": "code",
   "execution_count": 45,
   "id": "d09d401b",
   "metadata": {},
   "outputs": [
    {
     "data": {
      "text/plain": [
       "count    30524.000000\n",
       "mean         0.012064\n",
       "std          0.007378\n",
       "min          0.000000\n",
       "25%          0.008601\n",
       "50%          0.010318\n",
       "75%          0.012580\n",
       "max          0.060576\n",
       "Name: rate, dtype: float64"
      ]
     },
     "execution_count": 45,
     "metadata": {},
     "output_type": "execute_result"
    }
   ],
   "source": [
    "eth_rate['rate'].describe()"
   ]
  },
  {
   "cell_type": "code",
   "execution_count": 46,
   "id": "f40f03ed",
   "metadata": {},
   "outputs": [
    {
     "data": {
      "text/plain": [
       "0.01031808488191893"
      ]
     },
     "execution_count": 46,
     "metadata": {},
     "output_type": "execute_result"
    }
   ],
   "source": [
    "eth_rate['rate'].median()"
   ]
  },
  {
   "cell_type": "code",
   "execution_count": 31,
   "id": "fdad00ee",
   "metadata": {},
   "outputs": [],
   "source": [
    "eth_rate.to_csv(\"eth_rate_0709.csv\")"
   ]
  },
  {
   "cell_type": "code",
   "execution_count": 32,
   "id": "839a3f51",
   "metadata": {},
   "outputs": [],
   "source": [
    "idr =  \"0xb31f66aa3c1e785363f0875a1b74e27b85fd66c70xa97684ead0e402dc232d5a977953df7ecbab3cdb\"\n",
    "query = '{\"query\":\"{\\\\n reserveParamsHistoryItems(first: 1000, orderBy: timestamp, orderDirection: desc, where : {reserve: \\\\\"'+idr+'\\\\\", timestamp_lt : skip_param}) {\\\\n variableBorrowRate\\\\n stableBorrowRate\\\\n priceInEth\\\\n priceInUsd\\\\n timestamp\\\\n}\\\\n}\\\\n\"}'\n",
    "#query = '{query: \"{\\\\n  \\\\n  reserveParamsHistoryItems \\\\n  {\\\\n    variableBorrowRate\\\\n    stableBorrowRate\\\\n    priceInEth\\\\n    priceInUsd\\\\n    timestamp\\\\n    \\\\n  }\\\\n  \\\\n  }\\\\n  \\\\n  \\\\n\",\"variables\":null}'\n",
    "url = 'aave/protocol-v3-avalanche'\n",
    "name = 'reserveParamsHistoryItems'\n",
    "avax_buff = get_data_from_sg(query, url, name)\n",
    "avax_rate = pd.DataFrame(avax_buff)\n",
    "\n",
    "avax_rate['date'] = pd.to_datetime(avax_rate['timestamp'], unit = 's')"
   ]
  },
  {
   "cell_type": "code",
   "execution_count": 34,
   "id": "53ec9cc9",
   "metadata": {},
   "outputs": [],
   "source": [
    "avax_rate['rate']= (avax_rate['variableBorrowRate'].apply(int)) / 10 ** 27"
   ]
  },
  {
   "cell_type": "code",
   "execution_count": 52,
   "id": "acccacae",
   "metadata": {},
   "outputs": [],
   "source": [
    "avax_rate['rate'] = avax_rate.rate.apply(float)"
   ]
  },
  {
   "cell_type": "code",
   "execution_count": 53,
   "id": "482efa23",
   "metadata": {},
   "outputs": [
    {
     "data": {
      "text/plain": [
       "count    125302.000000\n",
       "mean          0.062592\n",
       "std           0.046123\n",
       "min           0.000000\n",
       "25%           0.055766\n",
       "50%           0.060605\n",
       "75%           0.066201\n",
       "max           2.907122\n",
       "Name: rate, dtype: float64"
      ]
     },
     "execution_count": 53,
     "metadata": {},
     "output_type": "execute_result"
    }
   ],
   "source": [
    "avax_rate['rate'].describe()"
   ]
  },
  {
   "cell_type": "code",
   "execution_count": 54,
   "id": "b5e8039b",
   "metadata": {},
   "outputs": [
    {
     "data": {
      "text/plain": [
       "0.06060528608806464"
      ]
     },
     "execution_count": 54,
     "metadata": {},
     "output_type": "execute_result"
    }
   ],
   "source": [
    "avax_rate.rate.median()"
   ]
  },
  {
   "cell_type": "code",
   "execution_count": 36,
   "id": "a2263ab8",
   "metadata": {},
   "outputs": [],
   "source": [
    "avax_rate.to_csv(\"avax_rate_0709.csv\")"
   ]
  },
  {
   "cell_type": "code",
   "execution_count": 37,
   "id": "475d8c93",
   "metadata": {},
   "outputs": [],
   "source": [
    "idr =  \"0x50b7545627a5162f82a992c33b87adc75187b2180xa97684ead0e402dc232d5a977953df7ecbab3cdb\"\n",
    "query = '{\"query\":\"{\\\\n reserveParamsHistoryItems(first: 1000, orderBy: timestamp, orderDirection: desc, where : {reserve: \\\\\"'+idr+'\\\\\", timestamp_lt : skip_param}) {\\\\n variableBorrowRate\\\\n stableBorrowRate\\\\n priceInEth\\\\n priceInUsd\\\\n timestamp\\\\n}\\\\n}\\\\n\"}'\n",
    "#query = '{query: \"{\\\\n  \\\\n  reserveParamsHistoryItems \\\\n  {\\\\n    variableBorrowRate\\\\n    stableBorrowRate\\\\n    priceInEth\\\\n    priceInUsd\\\\n    timestamp\\\\n    \\\\n  }\\\\n  \\\\n  }\\\\n  \\\\n  \\\\n\",\"variables\":null}'\n",
    "url = 'aave/protocol-v3-avalanche'\n",
    "name = 'reserveParamsHistoryItems'\n",
    "btc_buff = get_data_from_sg(query, url, name)\n",
    "btc_rate = pd.DataFrame(btc_buff)\n",
    "\n",
    "btc_rate['date'] = pd.to_datetime(btc_rate['timestamp'], unit = 's')"
   ]
  },
  {
   "cell_type": "code",
   "execution_count": 39,
   "id": "a8b60474",
   "metadata": {},
   "outputs": [],
   "source": [
    "btc_rate['rate']= (btc_rate['variableBorrowRate'].apply(int)) / 10 ** 27"
   ]
  },
  {
   "cell_type": "code",
   "execution_count": 47,
   "id": "ea608868",
   "metadata": {},
   "outputs": [],
   "source": [
    "btc_rate['rate'] = btc_rate.rate.apply(float)"
   ]
  },
  {
   "cell_type": "code",
   "execution_count": 49,
   "id": "df9a6ea6",
   "metadata": {},
   "outputs": [
    {
     "data": {
      "text/plain": [
       "0.004561721259657841"
      ]
     },
     "execution_count": 49,
     "metadata": {},
     "output_type": "execute_result"
    }
   ],
   "source": [
    "btc_rate['rate'].median()"
   ]
  },
  {
   "cell_type": "code",
   "execution_count": 50,
   "id": "dbb75787",
   "metadata": {},
   "outputs": [
    {
     "data": {
      "text/html": [
       "<div>\n",
       "<style scoped>\n",
       "    .dataframe tbody tr th:only-of-type {\n",
       "        vertical-align: middle;\n",
       "    }\n",
       "\n",
       "    .dataframe tbody tr th {\n",
       "        vertical-align: top;\n",
       "    }\n",
       "\n",
       "    .dataframe thead th {\n",
       "        text-align: right;\n",
       "    }\n",
       "</style>\n",
       "<table border=\"1\" class=\"dataframe\">\n",
       "  <thead>\n",
       "    <tr style=\"text-align: right;\">\n",
       "      <th></th>\n",
       "      <th>variableBorrowRate</th>\n",
       "      <th>stableBorrowRate</th>\n",
       "      <th>priceInEth</th>\n",
       "      <th>priceInUsd</th>\n",
       "      <th>timestamp</th>\n",
       "      <th>date</th>\n",
       "      <th>rate</th>\n",
       "    </tr>\n",
       "  </thead>\n",
       "  <tbody>\n",
       "    <tr>\n",
       "      <th>0</th>\n",
       "      <td>17346442436278160106870522</td>\n",
       "      <td>90000000000000000000000000</td>\n",
       "      <td>1909092000000</td>\n",
       "      <td>1909092000000</td>\n",
       "      <td>1662577166</td>\n",
       "      <td>2022-09-07 18:59:26</td>\n",
       "      <td>0.017346</td>\n",
       "    </tr>\n",
       "    <tr>\n",
       "      <th>1</th>\n",
       "      <td>17346497520593609417527182</td>\n",
       "      <td>90000000000000000000000000</td>\n",
       "      <td>1897586000000</td>\n",
       "      <td>1897586000000</td>\n",
       "      <td>1662575949</td>\n",
       "      <td>2022-09-07 18:39:09</td>\n",
       "      <td>0.017346</td>\n",
       "    </tr>\n",
       "    <tr>\n",
       "      <th>2</th>\n",
       "      <td>17356832384088522129399856</td>\n",
       "      <td>90000000000000000000000000</td>\n",
       "      <td>1897586000000</td>\n",
       "      <td>1897586000000</td>\n",
       "      <td>1662575687</td>\n",
       "      <td>2022-09-07 18:34:47</td>\n",
       "      <td>0.017357</td>\n",
       "    </tr>\n",
       "    <tr>\n",
       "      <th>3</th>\n",
       "      <td>17356797752785251771244404</td>\n",
       "      <td>90000000000000000000000000</td>\n",
       "      <td>1892748230284</td>\n",
       "      <td>1892748230284</td>\n",
       "      <td>1662571815</td>\n",
       "      <td>2022-09-07 17:30:15</td>\n",
       "      <td>0.017357</td>\n",
       "    </tr>\n",
       "    <tr>\n",
       "      <th>4</th>\n",
       "      <td>17357289321007201662647447</td>\n",
       "      <td>90000000000000000000000000</td>\n",
       "      <td>1892748230284</td>\n",
       "      <td>1892748230284</td>\n",
       "      <td>1662571759</td>\n",
       "      <td>2022-09-07 17:29:19</td>\n",
       "      <td>0.017357</td>\n",
       "    </tr>\n",
       "    <tr>\n",
       "      <th>...</th>\n",
       "      <td>...</td>\n",
       "      <td>...</td>\n",
       "      <td>...</td>\n",
       "      <td>...</td>\n",
       "      <td>...</td>\n",
       "      <td>...</td>\n",
       "      <td>...</td>\n",
       "    </tr>\n",
       "    <tr>\n",
       "      <th>17562</th>\n",
       "      <td>0</td>\n",
       "      <td>90000000000000000000000000</td>\n",
       "      <td>4117849133087</td>\n",
       "      <td>4117849133087</td>\n",
       "      <td>1647483259</td>\n",
       "      <td>2022-03-17 02:14:19</td>\n",
       "      <td>0.000000</td>\n",
       "    </tr>\n",
       "    <tr>\n",
       "      <th>17563</th>\n",
       "      <td>0</td>\n",
       "      <td>90000000000000000000000000</td>\n",
       "      <td>4110903985102</td>\n",
       "      <td>4110903985102</td>\n",
       "      <td>1647482206</td>\n",
       "      <td>2022-03-17 01:56:46</td>\n",
       "      <td>0.000000</td>\n",
       "    </tr>\n",
       "    <tr>\n",
       "      <th>17564</th>\n",
       "      <td>0</td>\n",
       "      <td>90000000000000000000000000</td>\n",
       "      <td>4102297330567</td>\n",
       "      <td>4102297330567</td>\n",
       "      <td>1647481788</td>\n",
       "      <td>2022-03-17 01:49:48</td>\n",
       "      <td>0.000000</td>\n",
       "    </tr>\n",
       "    <tr>\n",
       "      <th>17565</th>\n",
       "      <td>0</td>\n",
       "      <td>90000000000000000000000000</td>\n",
       "      <td>4097345000000</td>\n",
       "      <td>4097345000000</td>\n",
       "      <td>1647471313</td>\n",
       "      <td>2022-03-16 22:55:13</td>\n",
       "      <td>0.000000</td>\n",
       "    </tr>\n",
       "    <tr>\n",
       "      <th>17566</th>\n",
       "      <td>0</td>\n",
       "      <td>90000000000000000000000000</td>\n",
       "      <td>4097345000000</td>\n",
       "      <td>4097345000000</td>\n",
       "      <td>1647470952</td>\n",
       "      <td>2022-03-16 22:49:12</td>\n",
       "      <td>0.000000</td>\n",
       "    </tr>\n",
       "  </tbody>\n",
       "</table>\n",
       "<p>17567 rows × 7 columns</p>\n",
       "</div>"
      ],
      "text/plain": [
       "               variableBorrowRate            stableBorrowRate     priceInEth  \\\n",
       "0      17346442436278160106870522  90000000000000000000000000  1909092000000   \n",
       "1      17346497520593609417527182  90000000000000000000000000  1897586000000   \n",
       "2      17356832384088522129399856  90000000000000000000000000  1897586000000   \n",
       "3      17356797752785251771244404  90000000000000000000000000  1892748230284   \n",
       "4      17357289321007201662647447  90000000000000000000000000  1892748230284   \n",
       "...                           ...                         ...            ...   \n",
       "17562                           0  90000000000000000000000000  4117849133087   \n",
       "17563                           0  90000000000000000000000000  4110903985102   \n",
       "17564                           0  90000000000000000000000000  4102297330567   \n",
       "17565                           0  90000000000000000000000000  4097345000000   \n",
       "17566                           0  90000000000000000000000000  4097345000000   \n",
       "\n",
       "          priceInUsd   timestamp                date      rate  \n",
       "0      1909092000000  1662577166 2022-09-07 18:59:26  0.017346  \n",
       "1      1897586000000  1662575949 2022-09-07 18:39:09  0.017346  \n",
       "2      1897586000000  1662575687 2022-09-07 18:34:47  0.017357  \n",
       "3      1892748230284  1662571815 2022-09-07 17:30:15  0.017357  \n",
       "4      1892748230284  1662571759 2022-09-07 17:29:19  0.017357  \n",
       "...              ...         ...                 ...       ...  \n",
       "17562  4117849133087  1647483259 2022-03-17 02:14:19  0.000000  \n",
       "17563  4110903985102  1647482206 2022-03-17 01:56:46  0.000000  \n",
       "17564  4102297330567  1647481788 2022-03-17 01:49:48  0.000000  \n",
       "17565  4097345000000  1647471313 2022-03-16 22:55:13  0.000000  \n",
       "17566  4097345000000  1647470952 2022-03-16 22:49:12  0.000000  \n",
       "\n",
       "[17567 rows x 7 columns]"
      ]
     },
     "execution_count": 50,
     "metadata": {},
     "output_type": "execute_result"
    }
   ],
   "source": [
    "btc_rate"
   ]
  },
  {
   "cell_type": "code",
   "execution_count": 41,
   "id": "ec5c9d79",
   "metadata": {},
   "outputs": [],
   "source": [
    "btc_rate.to_csv(\"btc_rate_0709.csv\")"
   ]
  },
  {
   "cell_type": "code",
   "execution_count": null,
   "id": "fc30928d",
   "metadata": {},
   "outputs": [],
   "source": []
  }
 ],
 "metadata": {
  "kernelspec": {
   "display_name": "Python 3 (ipykernel)",
   "language": "python",
   "name": "python3"
  },
  "language_info": {
   "codemirror_mode": {
    "name": "ipython",
    "version": 3
   },
   "file_extension": ".py",
   "mimetype": "text/x-python",
   "name": "python",
   "nbconvert_exporter": "python",
   "pygments_lexer": "ipython3",
   "version": "3.9.7"
  }
 },
 "nbformat": 4,
 "nbformat_minor": 5
}
